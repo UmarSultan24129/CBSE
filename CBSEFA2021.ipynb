{
  "nbformat": 4,
  "nbformat_minor": 0,
  "metadata": {
    "colab": {
      "name": "CBSEFA2021.ipynb",
      "provenance": [],
      "authorship_tag": "ABX9TyPqqA2zw23kGiODWGTLXl32",
      "include_colab_link": true
    },
    "kernelspec": {
      "name": "python3",
      "display_name": "Python 3"
    },
    "language_info": {
      "name": "python"
    }
  },
  "cells": [
    {
      "cell_type": "markdown",
      "metadata": {
        "id": "view-in-github",
        "colab_type": "text"
      },
      "source": [
        "<a href=\"https://colab.research.google.com/github/UmarSultan24129/CBSE/blob/main/CBSEFA2021.ipynb\" target=\"_parent\"><img src=\"https://colab.research.google.com/assets/colab-badge.svg\" alt=\"Open In Colab\"/></a>"
      ]
    },
    {
      "cell_type": "code",
      "metadata": {
        "colab": {
          "base_uri": "https://localhost:8080/",
          "height": 35
        },
        "id": "HmT_IR1QKfh3",
        "outputId": "5903a135-3d0f-44f2-a1eb-bafe3456896b"
      },
      "source": [
        "def Hello():\n",
        "  return \"Hello world\"\n",
        "\n",
        "Hello()"
      ],
      "execution_count": 1,
      "outputs": [
        {
          "output_type": "execute_result",
          "data": {
            "application/vnd.google.colaboratory.intrinsic+json": {
              "type": "string"
            },
            "text/plain": [
              "'Hello world'"
            ]
          },
          "metadata": {},
          "execution_count": 1
        }
      ]
    },
    {
      "cell_type": "code",
      "metadata": {
        "colab": {
          "base_uri": "https://localhost:8080/",
          "height": 35
        },
        "id": "DeAzQ-H3K8Hi",
        "outputId": "9adfe183-f974-48d9-c187-42eb6444f845"
      },
      "source": [
        "def sendsmallEmail():\n",
        "  return \"Small email send\"\n",
        "\n",
        "sendsmallEmail()"
      ],
      "execution_count": 2,
      "outputs": [
        {
          "output_type": "execute_result",
          "data": {
            "application/vnd.google.colaboratory.intrinsic+json": {
              "type": "string"
            },
            "text/plain": [
              "'Small email send'"
            ]
          },
          "metadata": {},
          "execution_count": 2
        }
      ]
    }
  ]
}